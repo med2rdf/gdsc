{
 "cells": [
  {
   "cell_type": "code",
   "execution_count": 1,
   "metadata": {},
   "outputs": [],
   "source": [
    "%matplotlib inline\n",
    "import pandas as pd\n",
    "import pickle\n",
    "import matplotlib.pyplot as plt\n",
    "from collections import OrderedDict"
   ]
  },
  {
   "cell_type": "markdown",
   "metadata": {},
   "source": [
    "# ファイル読み込み"
   ]
  },
  {
   "cell_type": "code",
   "execution_count": 2,
   "metadata": {},
   "outputs": [],
   "source": [
    "with open('../data/gdsc/PANCANCER_IC_Wed Oct 10 03_15_39 2018.pkl', 'rb') as f:\n",
    "    ic_df = pickle.load(f)\n",
    "\n",
    "with open('../data/cellosaurus/gdsc_cellosaurus.pkl', 'rb') as f:\n",
    "    cellosaurus_df = pickle.load(f)"
   ]
  },
  {
   "cell_type": "markdown",
   "metadata": {},
   "source": [
    "# 生データ 一部確認"
   ]
  },
  {
   "cell_type": "code",
   "execution_count": 3,
   "metadata": {},
   "outputs": [
    {
     "name": "stdout",
     "output_type": "stream",
     "text": [
      "(sample, category) = (224202, 14)\n"
     ]
    },
    {
     "data": {
      "text/html": [
       "<div>\n",
       "<style scoped>\n",
       "    .dataframe tbody tr th:only-of-type {\n",
       "        vertical-align: middle;\n",
       "    }\n",
       "\n",
       "    .dataframe tbody tr th {\n",
       "        vertical-align: top;\n",
       "    }\n",
       "\n",
       "    .dataframe thead th {\n",
       "        text-align: right;\n",
       "    }\n",
       "</style>\n",
       "<table border=\"1\" class=\"dataframe\">\n",
       "  <thead>\n",
       "    <tr style=\"text-align: right;\">\n",
       "      <th></th>\n",
       "      <th>Drug name</th>\n",
       "      <th>Drug Id</th>\n",
       "      <th>Cell line name</th>\n",
       "      <th>Cosmic sample Id</th>\n",
       "      <th>TCGA classification</th>\n",
       "      <th>Tissue</th>\n",
       "      <th>Tissue sub-type</th>\n",
       "      <th>IC Result ID</th>\n",
       "      <th>IC50</th>\n",
       "      <th>AUC</th>\n",
       "      <th>Max conc</th>\n",
       "      <th>RMSE</th>\n",
       "      <th>Z score</th>\n",
       "      <th>Dataset version</th>\n",
       "    </tr>\n",
       "  </thead>\n",
       "  <tbody>\n",
       "    <tr>\n",
       "      <th>0</th>\n",
       "      <td>Erlotinib</td>\n",
       "      <td>1</td>\n",
       "      <td>MC-CAR</td>\n",
       "      <td>683665</td>\n",
       "      <td>MM</td>\n",
       "      <td>blood</td>\n",
       "      <td>haematopoietic_neoplasm_other</td>\n",
       "      <td>1</td>\n",
       "      <td>2.453524</td>\n",
       "      <td>0.982610</td>\n",
       "      <td>2.0</td>\n",
       "      <td>0.021678</td>\n",
       "      <td>-0.015505</td>\n",
       "      <td>17.3</td>\n",
       "    </tr>\n",
       "    <tr>\n",
       "      <th>1</th>\n",
       "      <td>Erlotinib</td>\n",
       "      <td>1</td>\n",
       "      <td>ES3</td>\n",
       "      <td>684055</td>\n",
       "      <td>UNCLASSIFIED</td>\n",
       "      <td>bone</td>\n",
       "      <td>ewings_sarcoma</td>\n",
       "      <td>1482</td>\n",
       "      <td>3.376592</td>\n",
       "      <td>0.985169</td>\n",
       "      <td>2.0</td>\n",
       "      <td>0.029915</td>\n",
       "      <td>0.779999</td>\n",
       "      <td>17.3</td>\n",
       "    </tr>\n",
       "    <tr>\n",
       "      <th>2</th>\n",
       "      <td>Erlotinib</td>\n",
       "      <td>1</td>\n",
       "      <td>ES5</td>\n",
       "      <td>684057</td>\n",
       "      <td>UNCLASSIFIED</td>\n",
       "      <td>bone</td>\n",
       "      <td>ewings_sarcoma</td>\n",
       "      <td>1791</td>\n",
       "      <td>3.614664</td>\n",
       "      <td>0.983207</td>\n",
       "      <td>2.0</td>\n",
       "      <td>0.031201</td>\n",
       "      <td>0.985170</td>\n",
       "      <td>17.3</td>\n",
       "    </tr>\n",
       "    <tr>\n",
       "      <th>3</th>\n",
       "      <td>Erlotinib</td>\n",
       "      <td>1</td>\n",
       "      <td>ES7</td>\n",
       "      <td>684059</td>\n",
       "      <td>UNCLASSIFIED</td>\n",
       "      <td>bone</td>\n",
       "      <td>ewings_sarcoma</td>\n",
       "      <td>2177</td>\n",
       "      <td>3.223394</td>\n",
       "      <td>0.984574</td>\n",
       "      <td>2.0</td>\n",
       "      <td>0.093857</td>\n",
       "      <td>0.647971</td>\n",
       "      <td>17.3</td>\n",
       "    </tr>\n",
       "    <tr>\n",
       "      <th>4</th>\n",
       "      <td>Erlotinib</td>\n",
       "      <td>1</td>\n",
       "      <td>EW-11</td>\n",
       "      <td>684062</td>\n",
       "      <td>UNCLASSIFIED</td>\n",
       "      <td>bone</td>\n",
       "      <td>ewings_sarcoma</td>\n",
       "      <td>2754</td>\n",
       "      <td>2.486405</td>\n",
       "      <td>0.946034</td>\n",
       "      <td>2.0</td>\n",
       "      <td>0.087280</td>\n",
       "      <td>0.012832</td>\n",
       "      <td>17.3</td>\n",
       "    </tr>\n",
       "    <tr>\n",
       "      <th>5</th>\n",
       "      <td>Erlotinib</td>\n",
       "      <td>1</td>\n",
       "      <td>SK-ES-1</td>\n",
       "      <td>684072</td>\n",
       "      <td>UNCLASSIFIED</td>\n",
       "      <td>bone</td>\n",
       "      <td>ewings_sarcoma</td>\n",
       "      <td>3333</td>\n",
       "      <td>2.048918</td>\n",
       "      <td>0.951604</td>\n",
       "      <td>2.0</td>\n",
       "      <td>0.015758</td>\n",
       "      <td>-0.364196</td>\n",
       "      <td>17.3</td>\n",
       "    </tr>\n",
       "    <tr>\n",
       "      <th>6</th>\n",
       "      <td>Erlotinib</td>\n",
       "      <td>1</td>\n",
       "      <td>NCI-H1395</td>\n",
       "      <td>684681</td>\n",
       "      <td>LUAD</td>\n",
       "      <td>lung</td>\n",
       "      <td>lung_NSCLC_adenocarcinoma</td>\n",
       "      <td>3878</td>\n",
       "      <td>4.198994</td>\n",
       "      <td>0.982545</td>\n",
       "      <td>2.0</td>\n",
       "      <td>0.029594</td>\n",
       "      <td>1.488747</td>\n",
       "      <td>17.3</td>\n",
       "    </tr>\n",
       "    <tr>\n",
       "      <th>7</th>\n",
       "      <td>Erlotinib</td>\n",
       "      <td>1</td>\n",
       "      <td>COLO-829</td>\n",
       "      <td>687448</td>\n",
       "      <td>SKCM</td>\n",
       "      <td>skin</td>\n",
       "      <td>melanoma</td>\n",
       "      <td>4337</td>\n",
       "      <td>3.101688</td>\n",
       "      <td>0.952900</td>\n",
       "      <td>2.0</td>\n",
       "      <td>0.179313</td>\n",
       "      <td>0.543086</td>\n",
       "      <td>17.3</td>\n",
       "    </tr>\n",
       "    <tr>\n",
       "      <th>8</th>\n",
       "      <td>Erlotinib</td>\n",
       "      <td>1</td>\n",
       "      <td>8-MG-BA</td>\n",
       "      <td>687562</td>\n",
       "      <td>GBM</td>\n",
       "      <td>nervous_system</td>\n",
       "      <td>glioma</td>\n",
       "      <td>8856</td>\n",
       "      <td>2.580268</td>\n",
       "      <td>0.980663</td>\n",
       "      <td>2.0</td>\n",
       "      <td>0.041394</td>\n",
       "      <td>0.093723</td>\n",
       "      <td>17.3</td>\n",
       "    </tr>\n",
       "    <tr>\n",
       "      <th>9</th>\n",
       "      <td>Erlotinib</td>\n",
       "      <td>1</td>\n",
       "      <td>GB-1</td>\n",
       "      <td>687568</td>\n",
       "      <td>GBM</td>\n",
       "      <td>nervous_system</td>\n",
       "      <td>glioma</td>\n",
       "      <td>9875</td>\n",
       "      <td>3.322689</td>\n",
       "      <td>0.976825</td>\n",
       "      <td>2.0</td>\n",
       "      <td>0.095117</td>\n",
       "      <td>0.733545</td>\n",
       "      <td>17.3</td>\n",
       "    </tr>\n",
       "  </tbody>\n",
       "</table>\n",
       "</div>"
      ],
      "text/plain": [
       "   Drug name  Drug Id Cell line name  Cosmic sample Id TCGA classification  \\\n",
       "0  Erlotinib        1         MC-CAR            683665                  MM   \n",
       "1  Erlotinib        1            ES3            684055        UNCLASSIFIED   \n",
       "2  Erlotinib        1            ES5            684057        UNCLASSIFIED   \n",
       "3  Erlotinib        1            ES7            684059        UNCLASSIFIED   \n",
       "4  Erlotinib        1          EW-11            684062        UNCLASSIFIED   \n",
       "5  Erlotinib        1        SK-ES-1            684072        UNCLASSIFIED   \n",
       "6  Erlotinib        1      NCI-H1395            684681                LUAD   \n",
       "7  Erlotinib        1       COLO-829            687448                SKCM   \n",
       "8  Erlotinib        1        8-MG-BA            687562                 GBM   \n",
       "9  Erlotinib        1           GB-1            687568                 GBM   \n",
       "\n",
       "           Tissue                Tissue sub-type  IC Result ID      IC50  \\\n",
       "0           blood  haematopoietic_neoplasm_other             1  2.453524   \n",
       "1            bone                 ewings_sarcoma          1482  3.376592   \n",
       "2            bone                 ewings_sarcoma          1791  3.614664   \n",
       "3            bone                 ewings_sarcoma          2177  3.223394   \n",
       "4            bone                 ewings_sarcoma          2754  2.486405   \n",
       "5            bone                 ewings_sarcoma          3333  2.048918   \n",
       "6            lung      lung_NSCLC_adenocarcinoma          3878  4.198994   \n",
       "7            skin                       melanoma          4337  3.101688   \n",
       "8  nervous_system                         glioma          8856  2.580268   \n",
       "9  nervous_system                         glioma          9875  3.322689   \n",
       "\n",
       "        AUC  Max conc      RMSE   Z score  Dataset version  \n",
       "0  0.982610       2.0  0.021678 -0.015505             17.3  \n",
       "1  0.985169       2.0  0.029915  0.779999             17.3  \n",
       "2  0.983207       2.0  0.031201  0.985170             17.3  \n",
       "3  0.984574       2.0  0.093857  0.647971             17.3  \n",
       "4  0.946034       2.0  0.087280  0.012832             17.3  \n",
       "5  0.951604       2.0  0.015758 -0.364196             17.3  \n",
       "6  0.982545       2.0  0.029594  1.488747             17.3  \n",
       "7  0.952900       2.0  0.179313  0.543086             17.3  \n",
       "8  0.980663       2.0  0.041394  0.093723             17.3  \n",
       "9  0.976825       2.0  0.095117  0.733545             17.3  "
      ]
     },
     "execution_count": 3,
     "metadata": {},
     "output_type": "execute_result"
    }
   ],
   "source": [
    "# 細胞株薬剤評価\n",
    "print('(sample, category) = {}'.format(ic_df.shape))\n",
    "ic_df.head(10)"
   ]
  },
  {
   "cell_type": "code",
   "execution_count": 4,
   "metadata": {},
   "outputs": [
    {
     "name": "stdout",
     "output_type": "stream",
     "text": [
      "(sample, category) = (1073, 2)\n"
     ]
    },
    {
     "data": {
      "text/html": [
       "<div>\n",
       "<style scoped>\n",
       "    .dataframe tbody tr th:only-of-type {\n",
       "        vertical-align: middle;\n",
       "    }\n",
       "\n",
       "    .dataframe tbody tr th {\n",
       "        vertical-align: top;\n",
       "    }\n",
       "\n",
       "    .dataframe thead th {\n",
       "        text-align: right;\n",
       "    }\n",
       "</style>\n",
       "<table border=\"1\" class=\"dataframe\">\n",
       "  <thead>\n",
       "    <tr style=\"text-align: right;\">\n",
       "      <th></th>\n",
       "      <th>ID</th>\n",
       "      <th>GDSC</th>\n",
       "    </tr>\n",
       "  </thead>\n",
       "  <tbody>\n",
       "    <tr>\n",
       "      <th>1</th>\n",
       "      <td>201T</td>\n",
       "      <td>1287381</td>\n",
       "    </tr>\n",
       "    <tr>\n",
       "      <th>2</th>\n",
       "      <td>22Rv1</td>\n",
       "      <td>924100</td>\n",
       "    </tr>\n",
       "    <tr>\n",
       "      <th>3</th>\n",
       "      <td>23132/87</td>\n",
       "      <td>910924</td>\n",
       "    </tr>\n",
       "    <tr>\n",
       "      <th>4</th>\n",
       "      <td>42-MG-BA</td>\n",
       "      <td>687561</td>\n",
       "    </tr>\n",
       "    <tr>\n",
       "      <th>5</th>\n",
       "      <td>451Lu</td>\n",
       "      <td>1287706</td>\n",
       "    </tr>\n",
       "    <tr>\n",
       "      <th>6</th>\n",
       "      <td>5637</td>\n",
       "      <td>687452</td>\n",
       "    </tr>\n",
       "    <tr>\n",
       "      <th>7</th>\n",
       "      <td>639V</td>\n",
       "      <td>906798</td>\n",
       "    </tr>\n",
       "    <tr>\n",
       "      <th>8</th>\n",
       "      <td>647V</td>\n",
       "      <td>906797</td>\n",
       "    </tr>\n",
       "    <tr>\n",
       "      <th>9</th>\n",
       "      <td>697</td>\n",
       "      <td>906800</td>\n",
       "    </tr>\n",
       "    <tr>\n",
       "      <th>10</th>\n",
       "      <td>769-P</td>\n",
       "      <td>910922</td>\n",
       "    </tr>\n",
       "  </tbody>\n",
       "</table>\n",
       "</div>"
      ],
      "text/plain": [
       "          ID     GDSC\n",
       "1       201T  1287381\n",
       "2      22Rv1   924100\n",
       "3   23132/87   910924\n",
       "4   42-MG-BA   687561\n",
       "5      451Lu  1287706\n",
       "6       5637   687452\n",
       "7       639V   906798\n",
       "8       647V   906797\n",
       "9        697   906800\n",
       "10     769-P   910922"
      ]
     },
     "execution_count": 4,
     "metadata": {},
     "output_type": "execute_result"
    }
   ],
   "source": [
    "# cellosaurusのIDとcosmic_sample_idの対応表\n",
    "print('(sample, category) = {}'.format(cellosaurus_df.shape))\n",
    "cellosaurus_df.head(10)"
   ]
  },
  {
   "cell_type": "code",
   "execution_count": 5,
   "metadata": {},
   "outputs": [
    {
     "name": "stdout",
     "output_type": "stream",
     "text": [
      "GDSC cell line num: 1062\n"
     ]
    }
   ],
   "source": [
    "# GDSC 細胞株数\n",
    "gdsc_cosmic_id = list(set(ic_df['Cosmic sample Id']))\n",
    "cellosaurus_cosmic_id = list(set(cellosaurus_df['GDSC']))\n",
    "l_duplicate = [x for x in gdsc_cosmic_id if str(x) in cellosaurus_cosmic_id]\n",
    "print('GDSC cell line num: {}'.format(len(l_duplicate)))"
   ]
  },
  {
   "cell_type": "markdown",
   "metadata": {},
   "source": [
    "# IC50分布確認"
   ]
  },
  {
   "cell_type": "code",
   "execution_count": 6,
   "metadata": {},
   "outputs": [
    {
     "name": "stdout",
     "output_type": "stream",
     "text": [
      "OrderedDict([('low', 180949), ('middle', 26062), ('high', 17191)])\n"
     ]
    },
    {
     "data": {
      "image/png": "[encoded data removed]",
      "text/plain": [
       "<Figure size 432x288 with 1 Axes>"
      ]
     },
     "metadata": {},
     "output_type": "display_data"
    }
   ],
   "source": [
    "high_th = -2.3\n",
    "low_th = 0\n",
    "\n",
    "high_ic50 = ic_df['IC50'] < high_th\n",
    "mid_ic50 = ((high_th <= ic_df['IC50']) & (ic_df['IC50'] <= low_th))\n",
    "low_ic50 = low_th < ic_df['IC50']\n",
    "\n",
    "ic_dict = OrderedDict()\n",
    "ic_dict['low'] = low_ic50.sum()\n",
    "ic_dict['middle'] = mid_ic50.sum()\n",
    "ic_dict['high'] = high_ic50.sum()\n",
    "plt.bar(ic_dict.keys(), ic_dict.values())\n",
    "print(ic_dict)"
   ]
  },
  {
   "cell_type": "markdown",
   "metadata": {},
   "source": [
    "# AUC分布確認"
   ]
  },
  {
   "cell_type": "code",
   "execution_count": 7,
   "metadata": {},
   "outputs": [
    {
     "name": "stdout",
     "output_type": "stream",
     "text": [
      "OrderedDict([('low', 189955), ('middle', 26709), ('high', 7538)])\n"
     ]
    },
    {
     "data": {
      "image/png": "[encoded data removed]",
      "text/plain": [
       "<Figure size 432x288 with 1 Axes>"
      ]
     },
     "metadata": {},
     "output_type": "display_data"
    }
   ],
   "source": [
    "high_th = 0.33\n",
    "low_th = 0.66\n",
    "\n",
    "high_auc = ic_df['AUC'] < high_th\n",
    "mid_auc = ((high_th <= ic_df['AUC']) & (ic_df['AUC'] <= low_th))      \n",
    "low_auc = low_th < ic_df['AUC']\n",
    "auc_dict = OrderedDict()\n",
    "auc_dict['low'] = low_auc.sum()\n",
    "auc_dict['middle'] = mid_auc.sum()\n",
    "auc_dict['high'] = high_auc.sum()\n",
    "plt.bar(auc_dict.keys(), auc_dict.values())\n",
    "print(auc_dict)"
   ]
  },
  {
   "cell_type": "code",
   "execution_count": null,
   "metadata": {},
   "outputs": [],
   "source": []
  }
 ],
 "metadata": {
  "kernelspec": {
   "display_name": "Python 3",
   "language": "python",
   "name": "python3"
  },
  "language_info": {
   "codemirror_mode": {
    "name": "ipython",
    "version": 3
   },
   "file_extension": ".py",
   "mimetype": "text/x-python",
   "name": "python",
   "nbconvert_exporter": "python",
   "pygments_lexer": "ipython3",
   "version": "3.5.5"
  }
 },
 "nbformat": 4,
 "nbformat_minor": 2
}
